{
 "cells": [
  {
   "cell_type": "code",
   "execution_count": 46,
   "id": "5ea173e5-9a59-41fe-b0b3-a83cadddc6e8",
   "metadata": {},
   "outputs": [],
   "source": [
    "import pyeuropeana.apis as apis\n",
    "import pyeuropeana.utils as utils\n"
   ]
  },
  {
   "cell_type": "markdown",
   "id": "3c7ccbce-dd4c-4396-b61a-45ffc4892d40",
   "metadata": {},
   "source": [
    "# Goal"
   ]
  },
  {
   "cell_type": "markdown",
   "id": "90e22362-79d8-47d2-a3fe-a2443b78989b",
   "metadata": {},
   "source": [
    "The goal of this notebook is to extract all id name from a given dataset - concatenate them with 'http://data.europeana.eu/item' and save them to a text file  "
   ]
  },
  {
   "cell_type": "code",
   "execution_count": 47,
   "id": "037fa0b7-bedf-47bb-8a05-b1a9dc533fc5",
   "metadata": {},
   "outputs": [],
   "source": [
    "#setting enviroment variable\n",
    "os.environ['EUROPEANA_API_KEY'] = 'api2demo'"
   ]
  },
  {
   "cell_type": "code",
   "execution_count": 48,
   "id": "98fbff32-2e45-48bf-976e-9ed65e164b36",
   "metadata": {},
   "outputs": [],
   "source": [
    "def search_api(query):\n",
    "    \"\"\"This function return the europeana_ids of the records related to a specific query\n",
    "    parameters:\n",
    "    query: query to issue\n",
    "    n_rows: number of results\"\"\"\n",
    "    response_tot_results = apis.search(\n",
    "    query = query,\n",
    "    profile='rich'\n",
    "    )\n",
    "    n_items=response_tot_results['totalResults']\n",
    "    response_final = apis.search(\n",
    "    query = query,\n",
    "    profile='rich',\n",
    "    rows=n_items\n",
    "    )\n",
    "    df_search=utils.search2df(response_final).europeana_id\n",
    "    return df_search, n_items"
   ]
  },
  {
   "cell_type": "code",
   "execution_count": 49,
   "id": "0af3e9a1-d67e-4b44-b6ae-a2436869a193",
   "metadata": {},
   "outputs": [],
   "source": [
    "query='edm_datasetName:2021012_Ag_FI_NDL_fng-api' #name of the dataset to query "
   ]
  },
  {
   "cell_type": "code",
   "execution_count": 50,
   "id": "91d909f1-5f51-477a-8e2d-2c5d4289ff85",
   "metadata": {},
   "outputs": [],
   "source": [
    "result,n_results=search_api(query)"
   ]
  },
  {
   "cell_type": "code",
   "execution_count": 51,
   "id": "546f690e-7566-44b7-9258-a04391823bbe",
   "metadata": {},
   "outputs": [
    {
     "data": {
      "text/plain": [
       "10020"
      ]
     },
     "execution_count": 51,
     "metadata": {},
     "output_type": "execute_result"
    }
   ],
   "source": [
    "n_results"
   ]
  },
  {
   "cell_type": "markdown",
   "id": "9e468aa4-bca8-4dcb-b303-91ff32005000",
   "metadata": {},
   "source": [
    "Creating the list of the relevant item ids and concatenating with 'http://data.europeana.eu/item'"
   ]
  },
  {
   "cell_type": "code",
   "execution_count": 52,
   "id": "4d7075a4-f446-4d00-a494-530b4f0f5504",
   "metadata": {},
   "outputs": [],
   "source": [
    "list_of_item_ids_web=[]\n",
    "for item_id in result:\n",
    "    item_id='http://data.europeana.eu/item'+item_id\n",
    "    list_of_item_ids_web.append(item_id)"
   ]
  },
  {
   "cell_type": "markdown",
   "id": "450680f0-8765-4fbf-8efc-e1e69fc7c243",
   "metadata": {},
   "source": [
    "Saving the list as text file"
   ]
  },
  {
   "cell_type": "code",
   "execution_count": 53,
   "id": "1c990b8b-2b5f-4b22-ae56-76d751190f87",
   "metadata": {},
   "outputs": [],
   "source": [
    "file_name='URIs_2021012_Ag_FI_NDL_fng-api.txt'#generated text file with list of items ids concatenated with 'http://data.europeana.eu/item'\n",
    "with open(file_name, 'w') as filehandle:\n",
    "    for item in list_of_item_ids_web:\n",
    "        filehandle.write('%s\\n' % item)"
   ]
  },
  {
   "cell_type": "markdown",
   "id": "14599e60-970e-47b1-acb9-edc24e9fb69a",
   "metadata": {},
   "source": [
    "# Conclusion"
   ]
  },
  {
   "cell_type": "markdown",
   "id": "e3e68270-4f1c-433e-971f-85377119a06c",
   "metadata": {},
   "source": [
    "This notebook generates a text file with list of items ids in a given collection concatenated with 'http://data.europeana.eu/item'"
   ]
  }
 ],
 "metadata": {
  "kernelspec": {
   "display_name": "Python 3 (ipykernel)",
   "language": "python",
   "name": "python3"
  },
  "language_info": {
   "codemirror_mode": {
    "name": "ipython",
    "version": 3
   },
   "file_extension": ".py",
   "mimetype": "text/x-python",
   "name": "python",
   "nbconvert_exporter": "python",
   "pygments_lexer": "ipython3",
   "version": "3.9.7"
  }
 },
 "nbformat": 4,
 "nbformat_minor": 5
}
